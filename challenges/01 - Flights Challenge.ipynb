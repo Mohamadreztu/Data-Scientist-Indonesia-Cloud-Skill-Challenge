{
 "cells": [
  {
   "cell_type": "markdown",
   "id": "aaae3205",
   "metadata": {},
   "source": [
    "# Flights Data Exploration Challenge\n",
    "\n",
    "In this challenge, you'll explore a real-world dataset containing flights data from the US Department of Transportation."
   ]
  },
  {
   "cell_type": "code",
   "execution_count": 58,
   "id": "58490ddd",
   "metadata": {},
   "outputs": [
    {
     "name": "stdout",
     "output_type": "stream",
     "text": [
      "<class 'pandas.core.frame.DataFrame'>\n",
      "RangeIndex: 271940 entries, 0 to 271939\n",
      "Data columns (total 20 columns):\n",
      " #   Column             Non-Null Count   Dtype  \n",
      "---  ------             --------------   -----  \n",
      " 0   Year               271940 non-null  int64  \n",
      " 1   Month              271940 non-null  int64  \n",
      " 2   DayofMonth         271940 non-null  int64  \n",
      " 3   DayOfWeek          271940 non-null  int64  \n",
      " 4   Carrier            271940 non-null  object \n",
      " 5   OriginAirportID    271940 non-null  int64  \n",
      " 6   OriginAirportName  271940 non-null  object \n",
      " 7   OriginCity         271940 non-null  object \n",
      " 8   OriginState        271940 non-null  object \n",
      " 9   DestAirportID      271940 non-null  int64  \n",
      " 10  DestAirportName    271940 non-null  object \n",
      " 11  DestCity           271940 non-null  object \n",
      " 12  DestState          271940 non-null  object \n",
      " 13  CRSDepTime         271940 non-null  int64  \n",
      " 14  DepDelay           271940 non-null  int64  \n",
      " 15  DepDel15           269179 non-null  float64\n",
      " 16  CRSArrTime         271940 non-null  int64  \n",
      " 17  ArrDelay           271940 non-null  int64  \n",
      " 18  ArrDel15           271940 non-null  int64  \n",
      " 19  Cancelled          271940 non-null  int64  \n",
      "dtypes: float64(1), int64(12), object(7)\n",
      "memory usage: 41.5+ MB\n"
     ]
    },
    {
     "data": {
      "text/plain": [
       "Year                    0\n",
       "Month                   0\n",
       "DayofMonth              0\n",
       "DayOfWeek               0\n",
       "Carrier                 0\n",
       "OriginAirportID         0\n",
       "OriginAirportName       0\n",
       "OriginCity              0\n",
       "OriginState             0\n",
       "DestAirportID           0\n",
       "DestAirportName         0\n",
       "DestCity                0\n",
       "DestState               0\n",
       "CRSDepTime              0\n",
       "DepDelay                0\n",
       "DepDel15             2761\n",
       "CRSArrTime              0\n",
       "ArrDelay                0\n",
       "ArrDel15                0\n",
       "Cancelled               0\n",
       "dtype: int64"
      ]
     },
     "execution_count": 58,
     "metadata": {},
     "output_type": "execute_result"
    }
   ],
   "source": [
    "import pandas as pd\n",
    "import numpy as np\n",
    "import matplotlib.pyplot as plt\n",
    "import seaborn as sns\n",
    "import scipy.stats as stats\n",
    "\n",
    "# Membaca datasets data/filights.csv\n",
    "df_flights = pd.read_csv('data/flights.csv')\n",
    "\n",
    "# Menampilkan informasi data\n",
    "df_flights.info()\n",
    "\n",
    "# Menampilkan 5 data teratas \n",
    "df_flights.head()\n",
    "\n",
    "# Menampilkan Missing Value (Null/NaaN)\n",
    "df_flights.isnull().sum()\n"
   ]
  },
  {
   "cell_type": "code",
   "execution_count": 8,
   "id": "a39a8356",
   "metadata": {},
   "outputs": [
    {
     "data": {
      "text/plain": [
       "Year                    0\n",
       "Month                   0\n",
       "DayofMonth              0\n",
       "DayOfWeek               0\n",
       "Carrier                 0\n",
       "OriginAirportID         0\n",
       "OriginAirportName       0\n",
       "OriginCity              0\n",
       "OriginState             0\n",
       "DestAirportID           0\n",
       "DestAirportName         0\n",
       "DestCity                0\n",
       "DestState               0\n",
       "CRSDepTime              0\n",
       "DepDelay                0\n",
       "DepDel15             2761\n",
       "CRSArrTime              0\n",
       "ArrDelay                0\n",
       "ArrDel15                0\n",
       "Cancelled               0\n",
       "dtype: int64"
      ]
     },
     "execution_count": 8,
     "metadata": {},
     "output_type": "execute_result"
    }
   ],
   "source": [
    "# Mengubah Missing Value menjadi Rata-rata\n",
    "df_flights['DepDelay'].fillna(df_flights['DepDelay'].mean(), inplace=True)\n",
    "df_flights['ArrDelay'].fillna(df_flights['ArrDelay'].mean(), inplace=True)\n",
    "\n",
    "# Memastikan data terhindar dari Missing Value\n",
    "df_flights.isnull().sum()"
   ]
  },
  {
   "cell_type": "code",
   "execution_count": 14,
   "id": "64c5d721",
   "metadata": {},
   "outputs": [
    {
     "data": {
      "text/html": [
       "<div>\n",
       "<style scoped>\n",
       "    .dataframe tbody tr th:only-of-type {\n",
       "        vertical-align: middle;\n",
       "    }\n",
       "\n",
       "    .dataframe tbody tr th {\n",
       "        vertical-align: top;\n",
       "    }\n",
       "\n",
       "    .dataframe thead th {\n",
       "        text-align: right;\n",
       "    }\n",
       "</style>\n",
       "<table border=\"1\" class=\"dataframe\">\n",
       "  <thead>\n",
       "    <tr style=\"text-align: right;\">\n",
       "      <th></th>\n",
       "      <th>Year</th>\n",
       "      <th>Month</th>\n",
       "      <th>DayofMonth</th>\n",
       "      <th>DayOfWeek</th>\n",
       "      <th>Carrier</th>\n",
       "      <th>OriginAirportID</th>\n",
       "      <th>OriginAirportName</th>\n",
       "      <th>OriginCity</th>\n",
       "      <th>OriginState</th>\n",
       "      <th>DestAirportID</th>\n",
       "      <th>DestAirportName</th>\n",
       "      <th>DestCity</th>\n",
       "      <th>DestState</th>\n",
       "      <th>CRSDepTime</th>\n",
       "      <th>DepDelay</th>\n",
       "      <th>DepDel15</th>\n",
       "      <th>CRSArrTime</th>\n",
       "      <th>ArrDelay</th>\n",
       "      <th>ArrDel15</th>\n",
       "      <th>Cancelled</th>\n",
       "    </tr>\n",
       "  </thead>\n",
       "  <tbody>\n",
       "    <tr>\n",
       "      <th>0</th>\n",
       "      <td>2013</td>\n",
       "      <td>9</td>\n",
       "      <td>16</td>\n",
       "      <td>1</td>\n",
       "      <td>DL</td>\n",
       "      <td>15304</td>\n",
       "      <td>Tampa International</td>\n",
       "      <td>Tampa</td>\n",
       "      <td>FL</td>\n",
       "      <td>12478</td>\n",
       "      <td>John F. Kennedy International</td>\n",
       "      <td>New York</td>\n",
       "      <td>NY</td>\n",
       "      <td>1539</td>\n",
       "      <td>4</td>\n",
       "      <td>0.0</td>\n",
       "      <td>1824</td>\n",
       "      <td>13</td>\n",
       "      <td>0</td>\n",
       "      <td>0</td>\n",
       "    </tr>\n",
       "    <tr>\n",
       "      <th>1</th>\n",
       "      <td>2013</td>\n",
       "      <td>9</td>\n",
       "      <td>23</td>\n",
       "      <td>1</td>\n",
       "      <td>WN</td>\n",
       "      <td>14122</td>\n",
       "      <td>Pittsburgh International</td>\n",
       "      <td>Pittsburgh</td>\n",
       "      <td>PA</td>\n",
       "      <td>13232</td>\n",
       "      <td>Chicago Midway International</td>\n",
       "      <td>Chicago</td>\n",
       "      <td>IL</td>\n",
       "      <td>710</td>\n",
       "      <td>3</td>\n",
       "      <td>0.0</td>\n",
       "      <td>740</td>\n",
       "      <td>22</td>\n",
       "      <td>1</td>\n",
       "      <td>0</td>\n",
       "    </tr>\n",
       "    <tr>\n",
       "      <th>2</th>\n",
       "      <td>2013</td>\n",
       "      <td>9</td>\n",
       "      <td>7</td>\n",
       "      <td>6</td>\n",
       "      <td>AS</td>\n",
       "      <td>14747</td>\n",
       "      <td>Seattle/Tacoma International</td>\n",
       "      <td>Seattle</td>\n",
       "      <td>WA</td>\n",
       "      <td>11278</td>\n",
       "      <td>Ronald Reagan Washington National</td>\n",
       "      <td>Washington</td>\n",
       "      <td>DC</td>\n",
       "      <td>810</td>\n",
       "      <td>-3</td>\n",
       "      <td>0.0</td>\n",
       "      <td>1614</td>\n",
       "      <td>-7</td>\n",
       "      <td>0</td>\n",
       "      <td>0</td>\n",
       "    </tr>\n",
       "    <tr>\n",
       "      <th>4</th>\n",
       "      <td>2013</td>\n",
       "      <td>5</td>\n",
       "      <td>16</td>\n",
       "      <td>4</td>\n",
       "      <td>DL</td>\n",
       "      <td>13931</td>\n",
       "      <td>Norfolk International</td>\n",
       "      <td>Norfolk</td>\n",
       "      <td>VA</td>\n",
       "      <td>10397</td>\n",
       "      <td>Hartsfield-Jackson Atlanta International</td>\n",
       "      <td>Atlanta</td>\n",
       "      <td>GA</td>\n",
       "      <td>545</td>\n",
       "      <td>-1</td>\n",
       "      <td>0.0</td>\n",
       "      <td>728</td>\n",
       "      <td>-9</td>\n",
       "      <td>0</td>\n",
       "      <td>0</td>\n",
       "    </tr>\n",
       "    <tr>\n",
       "      <th>6</th>\n",
       "      <td>2013</td>\n",
       "      <td>10</td>\n",
       "      <td>6</td>\n",
       "      <td>7</td>\n",
       "      <td>WN</td>\n",
       "      <td>13796</td>\n",
       "      <td>Metropolitan Oakland International</td>\n",
       "      <td>Oakland</td>\n",
       "      <td>CA</td>\n",
       "      <td>12191</td>\n",
       "      <td>William P Hobby</td>\n",
       "      <td>Houston</td>\n",
       "      <td>TX</td>\n",
       "      <td>630</td>\n",
       "      <td>-1</td>\n",
       "      <td>0.0</td>\n",
       "      <td>1210</td>\n",
       "      <td>-3</td>\n",
       "      <td>0</td>\n",
       "      <td>0</td>\n",
       "    </tr>\n",
       "    <tr>\n",
       "      <th>...</th>\n",
       "      <td>...</td>\n",
       "      <td>...</td>\n",
       "      <td>...</td>\n",
       "      <td>...</td>\n",
       "      <td>...</td>\n",
       "      <td>...</td>\n",
       "      <td>...</td>\n",
       "      <td>...</td>\n",
       "      <td>...</td>\n",
       "      <td>...</td>\n",
       "      <td>...</td>\n",
       "      <td>...</td>\n",
       "      <td>...</td>\n",
       "      <td>...</td>\n",
       "      <td>...</td>\n",
       "      <td>...</td>\n",
       "      <td>...</td>\n",
       "      <td>...</td>\n",
       "      <td>...</td>\n",
       "      <td>...</td>\n",
       "    </tr>\n",
       "    <tr>\n",
       "      <th>271932</th>\n",
       "      <td>2013</td>\n",
       "      <td>8</td>\n",
       "      <td>26</td>\n",
       "      <td>1</td>\n",
       "      <td>WN</td>\n",
       "      <td>11292</td>\n",
       "      <td>Denver International</td>\n",
       "      <td>Denver</td>\n",
       "      <td>CO</td>\n",
       "      <td>12191</td>\n",
       "      <td>William P Hobby</td>\n",
       "      <td>Houston</td>\n",
       "      <td>TX</td>\n",
       "      <td>1855</td>\n",
       "      <td>-2</td>\n",
       "      <td>0.0</td>\n",
       "      <td>2215</td>\n",
       "      <td>0</td>\n",
       "      <td>0</td>\n",
       "      <td>0</td>\n",
       "    </tr>\n",
       "    <tr>\n",
       "      <th>271933</th>\n",
       "      <td>2013</td>\n",
       "      <td>10</td>\n",
       "      <td>29</td>\n",
       "      <td>2</td>\n",
       "      <td>US</td>\n",
       "      <td>13930</td>\n",
       "      <td>Chicago O'Hare International</td>\n",
       "      <td>Chicago</td>\n",
       "      <td>IL</td>\n",
       "      <td>14100</td>\n",
       "      <td>Philadelphia International</td>\n",
       "      <td>Philadelphia</td>\n",
       "      <td>PA</td>\n",
       "      <td>1345</td>\n",
       "      <td>-6</td>\n",
       "      <td>0.0</td>\n",
       "      <td>1645</td>\n",
       "      <td>-11</td>\n",
       "      <td>0</td>\n",
       "      <td>0</td>\n",
       "    </tr>\n",
       "    <tr>\n",
       "      <th>271934</th>\n",
       "      <td>2013</td>\n",
       "      <td>4</td>\n",
       "      <td>13</td>\n",
       "      <td>6</td>\n",
       "      <td>AA</td>\n",
       "      <td>11298</td>\n",
       "      <td>Dallas/Fort Worth International</td>\n",
       "      <td>Dallas/Fort Worth</td>\n",
       "      <td>TX</td>\n",
       "      <td>13204</td>\n",
       "      <td>Orlando International</td>\n",
       "      <td>Orlando</td>\n",
       "      <td>FL</td>\n",
       "      <td>1335</td>\n",
       "      <td>-7</td>\n",
       "      <td>0.0</td>\n",
       "      <td>1705</td>\n",
       "      <td>-12</td>\n",
       "      <td>0</td>\n",
       "      <td>0</td>\n",
       "    </tr>\n",
       "    <tr>\n",
       "      <th>271935</th>\n",
       "      <td>2013</td>\n",
       "      <td>9</td>\n",
       "      <td>20</td>\n",
       "      <td>5</td>\n",
       "      <td>VX</td>\n",
       "      <td>13204</td>\n",
       "      <td>Orlando International</td>\n",
       "      <td>Orlando</td>\n",
       "      <td>FL</td>\n",
       "      <td>12892</td>\n",
       "      <td>Los Angeles International</td>\n",
       "      <td>Los Angeles</td>\n",
       "      <td>CA</td>\n",
       "      <td>1730</td>\n",
       "      <td>1</td>\n",
       "      <td>0.0</td>\n",
       "      <td>1945</td>\n",
       "      <td>18</td>\n",
       "      <td>1</td>\n",
       "      <td>0</td>\n",
       "    </tr>\n",
       "    <tr>\n",
       "      <th>271938</th>\n",
       "      <td>2013</td>\n",
       "      <td>5</td>\n",
       "      <td>7</td>\n",
       "      <td>2</td>\n",
       "      <td>HA</td>\n",
       "      <td>13830</td>\n",
       "      <td>Kahului Airport</td>\n",
       "      <td>Kahului</td>\n",
       "      <td>HI</td>\n",
       "      <td>12173</td>\n",
       "      <td>Honolulu International</td>\n",
       "      <td>Honolulu</td>\n",
       "      <td>HI</td>\n",
       "      <td>609</td>\n",
       "      <td>-5</td>\n",
       "      <td>0.0</td>\n",
       "      <td>641</td>\n",
       "      <td>-6</td>\n",
       "      <td>0</td>\n",
       "      <td>0</td>\n",
       "    </tr>\n",
       "  </tbody>\n",
       "</table>\n",
       "<p>229978 rows × 20 columns</p>\n",
       "</div>"
      ],
      "text/plain": [
       "        Year  Month  DayofMonth  DayOfWeek Carrier  OriginAirportID  \\\n",
       "0       2013      9          16          1      DL            15304   \n",
       "1       2013      9          23          1      WN            14122   \n",
       "2       2013      9           7          6      AS            14747   \n",
       "4       2013      5          16          4      DL            13931   \n",
       "6       2013     10           6          7      WN            13796   \n",
       "...      ...    ...         ...        ...     ...              ...   \n",
       "271932  2013      8          26          1      WN            11292   \n",
       "271933  2013     10          29          2      US            13930   \n",
       "271934  2013      4          13          6      AA            11298   \n",
       "271935  2013      9          20          5      VX            13204   \n",
       "271938  2013      5           7          2      HA            13830   \n",
       "\n",
       "                         OriginAirportName         OriginCity OriginState  \\\n",
       "0                      Tampa International              Tampa          FL   \n",
       "1                 Pittsburgh International         Pittsburgh          PA   \n",
       "2             Seattle/Tacoma International            Seattle          WA   \n",
       "4                    Norfolk International            Norfolk          VA   \n",
       "6       Metropolitan Oakland International            Oakland          CA   \n",
       "...                                    ...                ...         ...   \n",
       "271932                Denver International             Denver          CO   \n",
       "271933        Chicago O'Hare International            Chicago          IL   \n",
       "271934     Dallas/Fort Worth International  Dallas/Fort Worth          TX   \n",
       "271935               Orlando International            Orlando          FL   \n",
       "271938                     Kahului Airport            Kahului          HI   \n",
       "\n",
       "        DestAirportID                           DestAirportName      DestCity  \\\n",
       "0               12478             John F. Kennedy International      New York   \n",
       "1               13232              Chicago Midway International       Chicago   \n",
       "2               11278         Ronald Reagan Washington National    Washington   \n",
       "4               10397  Hartsfield-Jackson Atlanta International       Atlanta   \n",
       "6               12191                           William P Hobby       Houston   \n",
       "...               ...                                       ...           ...   \n",
       "271932          12191                           William P Hobby       Houston   \n",
       "271933          14100                Philadelphia International  Philadelphia   \n",
       "271934          13204                     Orlando International       Orlando   \n",
       "271935          12892                 Los Angeles International   Los Angeles   \n",
       "271938          12173                    Honolulu International      Honolulu   \n",
       "\n",
       "       DestState  CRSDepTime  DepDelay  DepDel15  CRSArrTime  ArrDelay  \\\n",
       "0             NY        1539         4       0.0        1824        13   \n",
       "1             IL         710         3       0.0         740        22   \n",
       "2             DC         810        -3       0.0        1614        -7   \n",
       "4             GA         545        -1       0.0         728        -9   \n",
       "6             TX         630        -1       0.0        1210        -3   \n",
       "...          ...         ...       ...       ...         ...       ...   \n",
       "271932        TX        1855        -2       0.0        2215         0   \n",
       "271933        PA        1345        -6       0.0        1645       -11   \n",
       "271934        FL        1335        -7       0.0        1705       -12   \n",
       "271935        CA        1730         1       0.0        1945        18   \n",
       "271938        HI         609        -5       0.0         641        -6   \n",
       "\n",
       "        ArrDel15  Cancelled  \n",
       "0              0          0  \n",
       "1              1          0  \n",
       "2              0          0  \n",
       "4              0          0  \n",
       "6              0          0  \n",
       "...          ...        ...  \n",
       "271932         0          0  \n",
       "271933         0          0  \n",
       "271934         0          0  \n",
       "271935         1          0  \n",
       "271938         0          0  \n",
       "\n",
       "[229978 rows x 20 columns]"
      ]
     },
     "execution_count": 14,
     "metadata": {},
     "output_type": "execute_result"
    }
   ],
   "source": [
    "# Identifikasi nilai Outlier dalam kolom DepDelay\n",
    "Q1 = np.percentile(df_flights['DepDelay'], 25)\n",
    "Q3 = np.percentile(df_flights['DepDelay'], 75)\n",
    "IQR = Q3 - Q1\n",
    "upper_bound = Q3 + 1.5 * IQR\n",
    "lower_bound = Q1 - 1.5 * IQR\n",
    "df_oDepDelay = df_flights[(df_flights['DepDelay'] >= lower_bound) & (df_flights['DepDelay'] <= upper_bound)]\n",
    "df_oDepDelay\n",
    "\n",
    "# Identifikasi nilai Outlier dalam kolom ArrDelay\n",
    "Q1 = np.percentile(df_flights['ArrDelay'], 25)\n",
    "Q3 = np.percentile(df_flights['ArrDelay'], 75)\n",
    "IQR = Q3 - Q1\n",
    "upper_bound = Q3 + 1.5 * IQR\n",
    "lower_bound = Q1 - 1.5 * IQR\n",
    "df_oArrDelay= df_flights[(df_flights['ArrDelay'] >= lower_bound) & (df_flights['ArrDelay'] <= upper_bound)]\n",
    "df_oArrDelay"
   ]
  },
  {
   "cell_type": "code",
   "execution_count": 16,
   "id": "f71b0ebf",
   "metadata": {},
   "outputs": [
    {
     "data": {
      "text/plain": [
       "Year               243325.000000\n",
       "Month              231291.026263\n",
       "DayofMonth         231350.651882\n",
       "DayOfWeek          231272.901212\n",
       "OriginAirportID    309312.965231\n",
       "DestAirportID      309245.979613\n",
       "CRSDepTime         239170.709167\n",
       "DepDelay           231256.071067\n",
       "DepDel15           228487.343406\n",
       "CRSArrTime         239978.371104\n",
       "ArrDelay           231230.593085\n",
       "ArrDel15           231248.368884\n",
       "Cancelled          231248.122560\n",
       "dtype: float64"
      ]
     },
     "execution_count": 16,
     "metadata": {},
     "output_type": "execute_result"
    }
   ],
   "source": []
  },
  {
   "cell_type": "code",
   "execution_count": 20,
   "id": "8ba6765b",
   "metadata": {},
   "outputs": [
    {
     "data": {
      "text/html": [
       "<div>\n",
       "<style scoped>\n",
       "    .dataframe tbody tr th:only-of-type {\n",
       "        vertical-align: middle;\n",
       "    }\n",
       "\n",
       "    .dataframe tbody tr th {\n",
       "        vertical-align: top;\n",
       "    }\n",
       "\n",
       "    .dataframe thead th {\n",
       "        text-align: right;\n",
       "    }\n",
       "</style>\n",
       "<table border=\"1\" class=\"dataframe\">\n",
       "  <thead>\n",
       "    <tr style=\"text-align: right;\">\n",
       "      <th></th>\n",
       "      <th>Year</th>\n",
       "      <th>Month</th>\n",
       "      <th>DayofMonth</th>\n",
       "      <th>DayOfWeek</th>\n",
       "      <th>OriginAirportID</th>\n",
       "      <th>DestAirportID</th>\n",
       "      <th>CRSDepTime</th>\n",
       "      <th>DepDelay</th>\n",
       "      <th>DepDel15</th>\n",
       "      <th>CRSArrTime</th>\n",
       "      <th>ArrDelay</th>\n",
       "      <th>ArrDel15</th>\n",
       "      <th>Cancelled</th>\n",
       "    </tr>\n",
       "  </thead>\n",
       "  <tbody>\n",
       "    <tr>\n",
       "      <th>count</th>\n",
       "      <td>271940.0</td>\n",
       "      <td>271940.000000</td>\n",
       "      <td>271940.000000</td>\n",
       "      <td>271940.000000</td>\n",
       "      <td>271940.000000</td>\n",
       "      <td>271940.000000</td>\n",
       "      <td>271940.000000</td>\n",
       "      <td>271940.000000</td>\n",
       "      <td>269179.000000</td>\n",
       "      <td>271940.000000</td>\n",
       "      <td>271940.000000</td>\n",
       "      <td>271940.000000</td>\n",
       "      <td>271940.000000</td>\n",
       "    </tr>\n",
       "    <tr>\n",
       "      <th>mean</th>\n",
       "      <td>2013.0</td>\n",
       "      <td>6.978514</td>\n",
       "      <td>15.814775</td>\n",
       "      <td>3.899316</td>\n",
       "      <td>12744.899584</td>\n",
       "      <td>12739.136493</td>\n",
       "      <td>1325.498713</td>\n",
       "      <td>10.350449</td>\n",
       "      <td>0.201134</td>\n",
       "      <td>1505.477819</td>\n",
       "      <td>6.496650</td>\n",
       "      <td>0.215930</td>\n",
       "      <td>0.010723</td>\n",
       "    </tr>\n",
       "    <tr>\n",
       "      <th>std</th>\n",
       "      <td>0.0</td>\n",
       "      <td>1.982431</td>\n",
       "      <td>8.799033</td>\n",
       "      <td>1.987219</td>\n",
       "      <td>1501.199773</td>\n",
       "      <td>1502.569949</td>\n",
       "      <td>470.748546</td>\n",
       "      <td>35.673710</td>\n",
       "      <td>0.400849</td>\n",
       "      <td>493.204020</td>\n",
       "      <td>38.230331</td>\n",
       "      <td>0.411467</td>\n",
       "      <td>0.102995</td>\n",
       "    </tr>\n",
       "    <tr>\n",
       "      <th>min</th>\n",
       "      <td>2013.0</td>\n",
       "      <td>4.000000</td>\n",
       "      <td>1.000000</td>\n",
       "      <td>1.000000</td>\n",
       "      <td>10140.000000</td>\n",
       "      <td>10140.000000</td>\n",
       "      <td>1.000000</td>\n",
       "      <td>-63.000000</td>\n",
       "      <td>0.000000</td>\n",
       "      <td>1.000000</td>\n",
       "      <td>-75.000000</td>\n",
       "      <td>0.000000</td>\n",
       "      <td>0.000000</td>\n",
       "    </tr>\n",
       "    <tr>\n",
       "      <th>25%</th>\n",
       "      <td>2013.0</td>\n",
       "      <td>5.000000</td>\n",
       "      <td>8.000000</td>\n",
       "      <td>2.000000</td>\n",
       "      <td>11292.000000</td>\n",
       "      <td>11292.000000</td>\n",
       "      <td>920.000000</td>\n",
       "      <td>-4.000000</td>\n",
       "      <td>0.000000</td>\n",
       "      <td>1119.000000</td>\n",
       "      <td>-11.000000</td>\n",
       "      <td>0.000000</td>\n",
       "      <td>0.000000</td>\n",
       "    </tr>\n",
       "    <tr>\n",
       "      <th>50%</th>\n",
       "      <td>2013.0</td>\n",
       "      <td>7.000000</td>\n",
       "      <td>16.000000</td>\n",
       "      <td>4.000000</td>\n",
       "      <td>12892.000000</td>\n",
       "      <td>12892.000000</td>\n",
       "      <td>1320.000000</td>\n",
       "      <td>-1.000000</td>\n",
       "      <td>0.000000</td>\n",
       "      <td>1529.000000</td>\n",
       "      <td>-3.000000</td>\n",
       "      <td>0.000000</td>\n",
       "      <td>0.000000</td>\n",
       "    </tr>\n",
       "    <tr>\n",
       "      <th>75%</th>\n",
       "      <td>2013.0</td>\n",
       "      <td>9.000000</td>\n",
       "      <td>23.000000</td>\n",
       "      <td>6.000000</td>\n",
       "      <td>14057.000000</td>\n",
       "      <td>14057.000000</td>\n",
       "      <td>1725.000000</td>\n",
       "      <td>9.000000</td>\n",
       "      <td>0.000000</td>\n",
       "      <td>1918.000000</td>\n",
       "      <td>10.000000</td>\n",
       "      <td>0.000000</td>\n",
       "      <td>0.000000</td>\n",
       "    </tr>\n",
       "    <tr>\n",
       "      <th>max</th>\n",
       "      <td>2013.0</td>\n",
       "      <td>10.000000</td>\n",
       "      <td>31.000000</td>\n",
       "      <td>7.000000</td>\n",
       "      <td>15376.000000</td>\n",
       "      <td>15376.000000</td>\n",
       "      <td>2359.000000</td>\n",
       "      <td>1425.000000</td>\n",
       "      <td>1.000000</td>\n",
       "      <td>2359.000000</td>\n",
       "      <td>1440.000000</td>\n",
       "      <td>1.000000</td>\n",
       "      <td>1.000000</td>\n",
       "    </tr>\n",
       "  </tbody>\n",
       "</table>\n",
       "</div>"
      ],
      "text/plain": [
       "           Year          Month     DayofMonth      DayOfWeek  OriginAirportID  \\\n",
       "count  271940.0  271940.000000  271940.000000  271940.000000    271940.000000   \n",
       "mean     2013.0       6.978514      15.814775       3.899316     12744.899584   \n",
       "std         0.0       1.982431       8.799033       1.987219      1501.199773   \n",
       "min      2013.0       4.000000       1.000000       1.000000     10140.000000   \n",
       "25%      2013.0       5.000000       8.000000       2.000000     11292.000000   \n",
       "50%      2013.0       7.000000      16.000000       4.000000     12892.000000   \n",
       "75%      2013.0       9.000000      23.000000       6.000000     14057.000000   \n",
       "max      2013.0      10.000000      31.000000       7.000000     15376.000000   \n",
       "\n",
       "       DestAirportID     CRSDepTime       DepDelay       DepDel15  \\\n",
       "count  271940.000000  271940.000000  271940.000000  269179.000000   \n",
       "mean    12739.136493    1325.498713      10.350449       0.201134   \n",
       "std      1502.569949     470.748546      35.673710       0.400849   \n",
       "min     10140.000000       1.000000     -63.000000       0.000000   \n",
       "25%     11292.000000     920.000000      -4.000000       0.000000   \n",
       "50%     12892.000000    1320.000000      -1.000000       0.000000   \n",
       "75%     14057.000000    1725.000000       9.000000       0.000000   \n",
       "max     15376.000000    2359.000000    1425.000000       1.000000   \n",
       "\n",
       "          CRSArrTime       ArrDelay       ArrDel15      Cancelled  \n",
       "count  271940.000000  271940.000000  271940.000000  271940.000000  \n",
       "mean     1505.477819       6.496650       0.215930       0.010723  \n",
       "std       493.204020      38.230331       0.411467       0.102995  \n",
       "min         1.000000     -75.000000       0.000000       0.000000  \n",
       "25%      1119.000000     -11.000000       0.000000       0.000000  \n",
       "50%      1529.000000      -3.000000       0.000000       0.000000  \n",
       "75%      1918.000000      10.000000       0.000000       0.000000  \n",
       "max      2359.000000    1440.000000       1.000000       1.000000  "
      ]
     },
     "execution_count": 20,
     "metadata": {},
     "output_type": "execute_result"
    }
   ],
   "source": [
    "# Menampilkan ringkasan statistik pada nilai numerik\n",
    "df_flights.describe()"
   ]
  },
  {
   "cell_type": "code",
   "execution_count": 22,
   "id": "dc3b2ce1",
   "metadata": {},
   "outputs": [
    {
     "data": {
      "image/png": "[encoded data removed]",
      "text/plain": [
       "<Figure size 640x480 with 1 Axes>"
      ]
     },
     "metadata": {},
     "output_type": "display_data"
    },
    {
     "data": {
      "image/png": "[encoded data removed]",
      "text/plain": [
       "<Figure size 640x480 with 1 Axes>"
      ]
     },
     "metadata": {},
     "output_type": "display_data"
    }
   ],
   "source": [
    "# Menentukan distribusi kolom DepDelay dan ArrDelay\n",
    "sns.histplot(data = df_flights, x = 'DepDelay', bins=50)\n",
    "plt.show()\n",
    "\n",
    "sns.histplot(data = df_flights, x = 'ArrDelay', bins=50)\n",
    "plt.show()"
   ]
  },
  {
   "cell_type": "code",
   "execution_count": 23,
   "id": "e074aad8",
   "metadata": {},
   "outputs": [
    {
     "name": "stdout",
     "output_type": "stream",
     "text": [
      "Rata-Rata penundaan keberangkatan:  10.350448628373906\n",
      "Rata-rata penundaan Kedatangan:  6.496649996322718\n"
     ]
    }
   ],
   "source": [
    "# Menghitung rata-rata keterlambatan keberangkatan dan kedatangan\n",
    "mean_dep_delay = df_flights['DepDelay'].mean()\n",
    "mean_arr_delay = df_flights['ArrDelay'].mean()\n",
    "\n",
    "print('Rata-Rata penundaan keberangkatan: ', mean_dep_delay)\n",
    "print('Rata-rata penundaan Kedatangan: ', mean_arr_delay)"
   ]
  },
  {
   "cell_type": "code",
   "execution_count": 31,
   "id": "cf6050b5",
   "metadata": {},
   "outputs": [
    {
     "name": "stdout",
     "output_type": "stream",
     "text": [
      "Carrier\n",
      "MQ    13.220602\n",
      "F9    11.460147\n",
      "EV    10.112552\n",
      "B6     9.841757\n",
      "VX     9.453929\n",
      "WN     8.062512\n",
      "YV     7.871276\n",
      "FL     7.611958\n",
      "AA     7.288294\n",
      "OO     6.054447\n",
      "9E     5.100463\n",
      "UA     4.847762\n",
      "US     4.011702\n",
      "DL     2.415259\n",
      "HA     1.443321\n",
      "AS    -0.129657\n",
      "Name: ArrDelay, dtype: float64\n"
     ]
    }
   ],
   "source": [
    "# Membandingkan Operator dalam penundaan kedatangan\n",
    "carrier_arr_delay = df_flights.groupby('Carrier')['ArrDelay'].mean().sort_values(ascending=False)\n",
    "print(carrier_arr_delay)"
   ]
  },
  {
   "cell_type": "code",
   "execution_count": 30,
   "id": "2e09a21b",
   "metadata": {},
   "outputs": [
    {
     "name": "stdout",
     "output_type": "stream",
     "text": [
      "DayOfWeek\n",
      "1     6.815726\n",
      "2     4.280567\n",
      "3     6.998455\n",
      "4    10.677588\n",
      "5     8.523507\n",
      "6     2.139292\n",
      "7     4.968973\n",
      "Name: ArrDelay, dtype: float64\n"
     ]
    }
   ],
   "source": [
    "# Membandingkan penundaan kedatangan untuk hari yang berbeda selama seminggu\n",
    "day_arr_delay = df_flights.groupby('DayOfWeek')['ArrDelay'].mean()\n",
    "print(day_arr_delay)"
   ]
  },
  {
   "cell_type": "code",
   "execution_count": 33,
   "id": "f625efc0",
   "metadata": {},
   "outputs": [
    {
     "name": "stdout",
     "output_type": "stream",
     "text": [
      "OriginAirportID\n",
      "13930    16.264636\n",
      "13232    16.005451\n",
      "11298    14.284565\n",
      "11618    13.954367\n",
      "12478    13.847152\n",
      "           ...    \n",
      "14869     4.967976\n",
      "15376     4.651665\n",
      "12954     4.316607\n",
      "13830     2.289428\n",
      "10299     2.213049\n",
      "Name: DepDelay, Length: 70, dtype: float64\n"
     ]
    }
   ],
   "source": [
    "# Menentukan bandara keberangkatan dengan rata-rata keterlambatan keberngkatan tertinggi\n",
    "dep_airport_delay = df_flights.groupby('OriginAirportID')['DepDelay'].mean().sort_values(ascending=False)\n",
    "print(dep_airport_delay)"
   ]
  },
  {
   "cell_type": "code",
   "execution_count": 37,
   "id": "75eac6c8",
   "metadata": {},
   "outputs": [
    {
     "data": {
      "image/png": "[encoded data removed]",
      "text/plain": [
       "<Figure size 640x480 with 1 Axes>"
      ]
     },
     "metadata": {},
     "output_type": "display_data"
    }
   ],
   "source": [
    "# Menentukan apakah keterlambatan keberangkatan mengakibatkan penundaan kedatangan yang lebih lama\n",
    "sns.boxplot(x='DepDelay', y='ArrDelay', data=df)\n",
    "plt.show()"
   ]
  },
  {
   "cell_type": "code",
   "execution_count": 44,
   "id": "3f38cb34",
   "metadata": {},
   "outputs": [
    {
     "name": "stdout",
     "output_type": "stream",
     "text": [
      "OriginAirportName  DestAirportName       \n",
      "Kahului Airport    Honolulu International    41\n",
      "dtype: int64\n"
     ]
    }
   ],
   "source": [
    "# Rute dengan kedatangan paling terlambat\n",
    "late_arrivals = df_flights[df_flights['ArrDelay'] == 1].groupby(['OriginAirportName', 'DestAirportName']).size().sort_values(ascending=False)\n",
    "print(late_arrivals.head(1))"
   ]
  },
  {
   "cell_type": "code",
   "execution_count": 50,
   "id": "a5ffbc72",
   "metadata": {},
   "outputs": [
    {
     "name": "stdout",
     "output_type": "stream",
     "text": [
      "OriginAirportName                DestAirportName     \n",
      "Southwest Florida International  Denver International    81.0\n",
      "Name: ArrDelay, dtype: float64\n"
     ]
    }
   ],
   "source": [
    "# Rute dengan penundaan kedatangan rata-rata tertinggi\n",
    "avg_arr_delay = df_flights.groupby(['OriginAirportName', 'DestAirportName'])['ArrDelay'].mean().sort_values(ascending=False)\n",
    "print(avg_arr_delay.head(1))"
   ]
  },
  {
   "cell_type": "code",
   "execution_count": 54,
   "id": "c6956a6d",
   "metadata": {},
   "outputs": [
    {
     "data": {
      "image/png": "[encoded data removed]",
      "text/plain": [
       "<Figure size 640x480 with 1 Axes>"
      ]
     },
     "metadata": {},
     "output_type": "display_data"
    },
    {
     "data": {
      "image/png": "[encoded data removed]",
      "text/plain": [
       "<Figure size 640x480 with 1 Axes>"
      ]
     },
     "metadata": {},
     "output_type": "display_data"
    }
   ],
   "source": [
    "# Menampilkan histogram Distribusi keterlambatan keberangkatan\n",
    "plt.hist(df_flights['DepDelay'], bins=range(-50, 200, 5))\n",
    "plt.title('Distribution of Departure Delay')\n",
    "plt.xlabel('Delay (minutes)')\n",
    "plt.ylabel('Frequency')\n",
    "plt.show()\n",
    "\n",
    "# Menampilkan histogram Distribusi keterlambatan kedatangan \n",
    "plt.hist(df_flights['ArrDelay'], bins=range(-50, 200, 5))\n",
    "plt.title('Distribution of Arrival Delay')\n",
    "plt.xlabel('Delay (minutes)')\n",
    "plt.ylabel('Frequency')\n",
    "plt.show()"
   ]
  },
  {
   "cell_type": "markdown",
   "id": "2355e052",
   "metadata": {},
   "source": [
    "#### Rata-Rata Keterlambatan keberangkatan dan kedatangan\n",
    "\n",
    "Menggunakan fungsi **mean()** dari library NumPy"
   ]
  },
  {
   "cell_type": "code",
   "execution_count": 56,
   "id": "554867b5",
   "metadata": {},
   "outputs": [
    {
     "name": "stdout",
     "output_type": "stream",
     "text": [
      "Rata-Rata keterlambatan keberangkatan:  10.35 Menit\n",
      "Rata-Rata keterlambatan kedatangan:  6.5 Menit\n"
     ]
    }
   ],
   "source": [
    "# Rata-rata keterlambatan keberangkatan\n",
    "mean_dep_delay = np.mean(df_flights['DepDelay'])\n",
    "print('Rata-Rata keterlambatan keberangkatan: ', round(mean_dep_delay, 2), 'Menit')\n",
    "\n",
    "# Rata-rata keterlambatan kedatangan \n",
    "mean_arr_delay = np.mean(df_flights['ArrDelay'])\n",
    "print('Rata-Rata keterlambatan kedatangan: ', round(mean_arr_delay, 2), 'Menit')"
   ]
  },
  {
   "cell_type": "markdown",
   "id": "de46a819",
   "metadata": {},
   "source": [
    "#### Kinerja Maskapai dalam Keterlambatan Kedatangan\n",
    "\n",
    "Melakukan pengelompokan data berdasarkan maskapai dan menghitung rata-rata keterlambatan menggunakan fungsi **groupby()** dan **mean()**."
   ]
  },
  {
   "cell_type": "code",
   "execution_count": 57,
   "id": "4042153c",
   "metadata": {},
   "outputs": [
    {
     "name": "stdout",
     "output_type": "stream",
     "text": [
      "Kinerja maskapai dalam hal keterlambatan kedatangan: \n",
      "Carrier\n",
      "MQ    13.220602\n",
      "F9    11.460147\n",
      "EV    10.112552\n",
      "B6     9.841757\n",
      "VX     9.453929\n",
      "WN     8.062512\n",
      "YV     7.871276\n",
      "FL     7.611958\n",
      "AA     7.288294\n",
      "OO     6.054447\n",
      "9E     5.100463\n",
      "UA     4.847762\n",
      "US     4.011702\n",
      "DL     2.415259\n",
      "HA     1.443321\n",
      "AS    -0.129657\n",
      "Name: ArrDelay, dtype: float64\n"
     ]
    }
   ],
   "source": [
    "# Kinerja maskapi dalam hal keterlambatan kedatangan\n",
    "carrier_arr_delay = df_flights.groupby('Carrier')['ArrDelay'].mean().sort_values(ascending=False)\n",
    "\n",
    "print('Kinerja maskapai dalam hal keterlambatan kedatangan: ')\n",
    "print(carrier_arr_delay)"
   ]
  },
  {
   "cell_type": "markdown",
   "id": "e6f0af5b",
   "metadata": {},
   "source": [
    "#### Perbandingan Rata-Rata Keterlambatan Kedatangan Pada Hari-Hari yang Berbeda\n",
    "\n",
    "Mengelompokkan data berdasarkan hari dalam seminggu, dan menghitung rata-rata keterlambatan kedatangan untuk setiap kelompok.Menggunakan **f_oneway** dari library **scipy.stats** "
   ]
  },
  {
   "cell_type": "code",
   "execution_count": 64,
   "id": "5f80079c",
   "metadata": {},
   "outputs": [],
   "source": [
    "# Data grup berdasarkan hari dalam seminggu dan hitung rata-rata keterlambatan kedatangan untuk setiap grup\n",
    "grouped_by_day = df_flights.groupby('DayOfWeek')\n",
    "mean_arr_delay_by_day = grouped_by_day['ArrDelay'].mean()"
   ]
  },
  {
   "cell_type": "markdown",
   "id": "dc59922a",
   "metadata": {},
   "source": [
    "Menguji **ANOVA** *(Analysis Of Variance)*"
   ]
  },
  {
   "cell_type": "code",
   "execution_count": 61,
   "id": "2e56900c",
   "metadata": {},
   "outputs": [
    {
     "name": "stdout",
     "output_type": "stream",
     "text": [
      "F statistic: 203.4919351537439\n",
      "p-value: 5.432427626353685e-260\n"
     ]
    }
   ],
   "source": [
    "# Jalankan ANOVA test\n",
    "f_statistic, p_value = stats.f_oneway(\n",
    "    df_flights[df_flights['DayOfWeek']==1]['ArrDelay'].dropna(),\n",
    "    df_flights[df_flights['DayOfWeek']==2]['ArrDelay'].dropna(),\n",
    "    df_flights[df_flights['DayOfWeek']==3]['ArrDelay'].dropna(),\n",
    "    df_flights[df_flights['DayOfWeek']==4]['ArrDelay'].dropna(),\n",
    "    df_flights[df_flights['DayOfWeek']==5]['ArrDelay'].dropna(),\n",
    "    df_flights[df_flights['DayOfWeek']==6]['ArrDelay'].dropna(),\n",
    "    df_flights[df_flights['DayOfWeek']==7]['ArrDelay'].dropna(),\n",
    ")\n",
    "\n",
    "print('F statistic:', f_statistic)\n",
    "print('p-value:', p_value)"
   ]
  },
  {
   "cell_type": "markdown",
   "id": "b7e2ed1a",
   "metadata": {},
   "source": [
    "Hasil uji coba ANOVA menunjukan bahwa p-value sangat kecil(kurang dari 2.2e-16), sehingga kita dapat mengatakan bahwa terdapat perbedaan yang signifikan dalam keterlambatan kedatangan untuk hari-hari yang berbeda"
   ]
  },
  {
   "cell_type": "markdown",
   "id": "d5279449",
   "metadata": {},
   "source": [
    "#### Bandara  keterlambatan Keterlambatan tertinggi\n",
    "\n",
    "Menggunakan fungsi **groupby()** pada kolom **OriginAirportName** dan Menghitung rata-rata pada kolom **DepDelay**."
   ]
  },
  {
   "cell_type": "code",
   "execution_count": 68,
   "id": "63195d0f",
   "metadata": {},
   "outputs": [
    {
     "name": "stdout",
     "output_type": "stream",
     "text": [
      "Bandara keberangkatan dengan rata-rata keterlambatan tertinggi:\n",
      " OriginAirportName\n",
      "Chicago O'Hare International    16.264636\n",
      "Name: DepDelay, dtype: float64\n"
     ]
    }
   ],
   "source": [
    "avg_dep_delay_by_origin = df_flights.groupby('OriginAirportName')['DepDelay'].mean().sort_values(ascending=False)\n",
    "print(\"Bandara keberangkatan dengan rata-rata keterlambatan tertinggi:\\n\", avg_dep_delay_by_origin.head(1))"
   ]
  },
  {
   "cell_type": "markdown",
   "id": "1238cb8a",
   "metadata": {},
   "source": [
    "Berdasarkan hasil output diatas, Rata-rata keterlambatan tertinggi adalah Bandara **Chicago O'Here International** dengan rata-rata keterlambatan sebesar 16.26 Menit"
   ]
  },
  {
   "cell_type": "markdown",
   "id": "af1a99fe",
   "metadata": {},
   "source": [
    "#### Keterlambatan Pemberangkatan Mengakibatkan Keterlambatan Kedatangan\n",
    "\n",
    "Apakah keterlambatan pemberangkatan mengakibatkan keterlambatan kedatangan yang lebih lama daro pada keberangkatan tepat waktu.Dengan menghitung korelasi antara kolom **DepDelay** dan **ArrDelay**"
   ]
  },
  {
   "cell_type": "code",
   "execution_count": 69,
   "id": "7bdaf7ee",
   "metadata": {},
   "outputs": [
    {
     "name": "stdout",
     "output_type": "stream",
     "text": [
      "Korelasi antara keterlambatan keberangkatan dan kedatangan:  0.9388217446009122\n"
     ]
    }
   ],
   "source": [
    "correlation = df_flights['DepDelay'].corr(df_flights['ArrDelay'])\n",
    "print('Korelasi antara keterlambatan keberangkatan dan kedatangan: ', correlation)"
   ]
  },
  {
   "cell_type": "markdown",
   "id": "92607906",
   "metadata": {},
   "source": [
    "Berdasarkan Output diatas, terdapat korelasi positif yang kuat (0.938) antara keterlambatan keberangkatan dan kedatangan.Yaitu keberangkatan terlambat mengakibatkan keterlambatan kedatangan yang lebih lama"
   ]
  },
  {
   "cell_type": "markdown",
   "id": "9ccef908",
   "metadata": {},
   "source": [
    "#### Rute Paling Banyak Kedatangan Terlambat\n",
    "\n",
    "Menggunakan fungsi **groupby()** pada kolom **OriginAirportName** dan **Dest**, dan menghitung jumlah data pada kolom **ArrDel15** yang bernilai 1. "
   ]
  },
  {
   "cell_type": "code",
   "execution_count": 71,
   "id": "b9c6401f",
   "metadata": {},
   "outputs": [
    {
     "name": "stdout",
     "output_type": "stream",
     "text": [
      "Rute dengan jumlah kedatangan paling banyak:\n",
      " OriginAirportName          DestAirportName            \n",
      "Los Angeles International  San Francisco International    324\n",
      "Name: ArrDel15, dtype: int64\n"
     ]
    }
   ],
   "source": [
    "most_late_arrivals_route = df_flights.groupby(['OriginAirportName', 'DestAirportName'])['ArrDel15'].sum().sort_values(ascending=False)\n",
    "print('Rute dengan jumlah kedatangan paling banyak:\\n', most_late_arrivals_route.head(1))"
   ]
  },
  {
   "cell_type": "markdown",
   "id": "00f9612e",
   "metadata": {},
   "source": [
    "Berdasarkan output diatas, rute dari Loas Angels International ke San Fransisco International memiliki jumlah kedatangan terlambat paling banyak"
   ]
  },
  {
   "cell_type": "markdown",
   "id": "d1be4885",
   "metadata": {},
   "source": [
    "#### Rute Paling Banyak Keterlambatan Kedatangan \n",
    "\n",
    "Menggunakan fungsi **groupby()** pada kolom **OriginState** dan **DestState**, dan menghitung jumlah data pada kolom ArrDelay."
   ]
  },
  {
   "cell_type": "code",
   "execution_count": 74,
   "id": "7ce4b5a1",
   "metadata": {},
   "outputs": [
    {
     "data": {
      "text/html": [
       "<div>\n",
       "<style scoped>\n",
       "    .dataframe tbody tr th:only-of-type {\n",
       "        vertical-align: middle;\n",
       "    }\n",
       "\n",
       "    .dataframe tbody tr th {\n",
       "        vertical-align: top;\n",
       "    }\n",
       "\n",
       "    .dataframe thead th {\n",
       "        text-align: right;\n",
       "    }\n",
       "</style>\n",
       "<table border=\"1\" class=\"dataframe\">\n",
       "  <thead>\n",
       "    <tr style=\"text-align: right;\">\n",
       "      <th></th>\n",
       "      <th>OriginState</th>\n",
       "      <th>DestState</th>\n",
       "      <th>ArrDelay</th>\n",
       "    </tr>\n",
       "  </thead>\n",
       "  <tbody>\n",
       "    <tr>\n",
       "      <th>550</th>\n",
       "      <td>NJ</td>\n",
       "      <td>OK</td>\n",
       "      <td>47.277778</td>\n",
       "    </tr>\n",
       "    <tr>\n",
       "      <th>762</th>\n",
       "      <td>RI</td>\n",
       "      <td>NJ</td>\n",
       "      <td>36.157895</td>\n",
       "    </tr>\n",
       "    <tr>\n",
       "      <th>864</th>\n",
       "      <td>VA</td>\n",
       "      <td>MN</td>\n",
       "      <td>35.342105</td>\n",
       "    </tr>\n",
       "    <tr>\n",
       "      <th>541</th>\n",
       "      <td>NJ</td>\n",
       "      <td>MD</td>\n",
       "      <td>34.200000</td>\n",
       "    </tr>\n",
       "    <tr>\n",
       "      <th>732</th>\n",
       "      <td>PA</td>\n",
       "      <td>OR</td>\n",
       "      <td>33.400000</td>\n",
       "    </tr>\n",
       "  </tbody>\n",
       "</table>\n",
       "</div>"
      ],
      "text/plain": [
       "    OriginState DestState   ArrDelay\n",
       "550          NJ        OK  47.277778\n",
       "762          RI        NJ  36.157895\n",
       "864          VA        MN  35.342105\n",
       "541          NJ        MD  34.200000\n",
       "732          PA        OR  33.400000"
      ]
     },
     "execution_count": 74,
     "metadata": {},
     "output_type": "execute_result"
    }
   ],
   "source": [
    "route_delay = df_flights.groupby(['OriginState', 'DestState'])['ArrDelay'].mean().reset_index()\n",
    "route_delay = route_delay.sort_values(by='ArrDelay', ascending=False)\n",
    "route_delay.head()"
   ]
  },
  {
   "cell_type": "markdown",
   "id": "0be91317",
   "metadata": {},
   "source": [
    "Berdasarkan output diatas, kita dapat melihat bahwa rute NJ-OK memiliki rata-rata keterlambatan kedatangan tertinggi"
   ]
  },
  {
   "cell_type": "markdown",
   "id": "73ec2585",
   "metadata": {},
   "source": [
    "## Summary"
   ]
  },
  {
   "cell_type": "markdown",
   "id": "21593f5f",
   "metadata": {},
   "source": [
    "Berdasarkan analisis yang dilakukan, dapat disimpulkan bahwa:\n",
    "\n",
    "- Rata-Rata keterlambatan keberangkatan adalah 10.35 menit dan rata-rata keterlambatan kedatangan adalah 6.5 menit.\n",
    "- MQ memiliki performa terbaik dalam hal keterlambatan kedatangan, sedangkan AS memiliki performa terburuk.\n",
    "- Tidak ada perbedaan yang signifikan dalam keterlambatan kedatangan untuk hari-hari yang berbeda.\n",
    "- Bandara keberangkatan Chicago O'Hare International memiliki rata-rata keterlambatan keberangkatan tertinggi.\n",
    "- Ada kecenderungan bahwa keberangkatan terlambat mengakibatkan keterlambatan kedatangan yang lebih lama daripada keberangkatan tepat waktu.\n",
    "- Rute dengan paling banyak kedatangan terlambat adalah rute dari San Francisco International Airport ke Los Angeles International Airport.\n",
    "- Rute dengan rata-rata keterlambatan kedatangan tertinggi adalah rute dari Southwest Florida International ke Denver International Airport."
   ]
  }
 ],
 "metadata": {
  "kernelspec": {
   "display_name": "Python 3 (ipykernel)",
   "language": "python",
   "name": "python3"
  },
  "language_info": {
   "codemirror_mode": {
    "name": "ipython",
    "version": 3
   },
   "file_extension": ".py",
   "mimetype": "text/x-python",
   "name": "python",
   "nbconvert_exporter": "python",
   "pygments_lexer": "ipython3",
   "version": "3.9.13"
  }
 },
 "nbformat": 4,
 "nbformat_minor": 5
}
