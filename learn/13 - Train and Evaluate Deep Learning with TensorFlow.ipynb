{
 "cells": [
  {
   "cell_type": "markdown",
   "id": "a2da3806",
   "metadata": {},
   "source": [
    "# Train and Evaluate Deep Learning with TensorFlow"
   ]
  },
  {
   "cell_type": "code",
   "execution_count": 27,
   "id": "cd123132",
   "metadata": {},
   "outputs": [
    {
     "name": "stderr",
     "output_type": "stream",
     "text": [
      "C:\\Users\\restu\\AppData\\Local\\Temp\\ipykernel_2996\\3769260766.py:10: FutureWarning: The frame.append method is deprecated and will be removed from pandas in a future version. Use pandas.concat instead.\n",
      "  penguins = penguins.append(penguins)\n",
      "C:\\Users\\restu\\AppData\\Local\\Temp\\ipykernel_2996\\3769260766.py:10: FutureWarning: The frame.append method is deprecated and will be removed from pandas in a future version. Use pandas.concat instead.\n",
      "  penguins = penguins.append(penguins)\n"
     ]
    },
    {
     "data": {
      "text/html": [
       "<div>\n",
       "<style scoped>\n",
       "    .dataframe tbody tr th:only-of-type {\n",
       "        vertical-align: middle;\n",
       "    }\n",
       "\n",
       "    .dataframe tbody tr th {\n",
       "        vertical-align: top;\n",
       "    }\n",
       "\n",
       "    .dataframe thead th {\n",
       "        text-align: right;\n",
       "    }\n",
       "</style>\n",
       "<table border=\"1\" class=\"dataframe\">\n",
       "  <thead>\n",
       "    <tr style=\"text-align: right;\">\n",
       "      <th></th>\n",
       "      <th>CulmenLength</th>\n",
       "      <th>CulmenDepth</th>\n",
       "      <th>FlipperLength</th>\n",
       "      <th>BodyMass</th>\n",
       "      <th>Species</th>\n",
       "    </tr>\n",
       "  </thead>\n",
       "  <tbody>\n",
       "    <tr>\n",
       "      <th>221</th>\n",
       "      <td>50.7</td>\n",
       "      <td>15.0</td>\n",
       "      <td>22.3</td>\n",
       "      <td>55.50</td>\n",
       "      <td>1</td>\n",
       "    </tr>\n",
       "    <tr>\n",
       "      <th>174</th>\n",
       "      <td>46.5</td>\n",
       "      <td>14.5</td>\n",
       "      <td>21.3</td>\n",
       "      <td>44.00</td>\n",
       "      <td>1</td>\n",
       "    </tr>\n",
       "    <tr>\n",
       "      <th>63</th>\n",
       "      <td>41.1</td>\n",
       "      <td>18.2</td>\n",
       "      <td>19.2</td>\n",
       "      <td>40.50</td>\n",
       "      <td>0</td>\n",
       "    </tr>\n",
       "    <tr>\n",
       "      <th>158</th>\n",
       "      <td>45.4</td>\n",
       "      <td>14.6</td>\n",
       "      <td>21.1</td>\n",
       "      <td>48.00</td>\n",
       "      <td>1</td>\n",
       "    </tr>\n",
       "    <tr>\n",
       "      <th>203</th>\n",
       "      <td>48.5</td>\n",
       "      <td>14.1</td>\n",
       "      <td>22.0</td>\n",
       "      <td>53.00</td>\n",
       "      <td>1</td>\n",
       "    </tr>\n",
       "    <tr>\n",
       "      <th>115</th>\n",
       "      <td>42.7</td>\n",
       "      <td>18.3</td>\n",
       "      <td>19.6</td>\n",
       "      <td>40.75</td>\n",
       "      <td>0</td>\n",
       "    </tr>\n",
       "    <tr>\n",
       "      <th>55</th>\n",
       "      <td>41.4</td>\n",
       "      <td>18.6</td>\n",
       "      <td>19.1</td>\n",
       "      <td>37.00</td>\n",
       "      <td>0</td>\n",
       "    </tr>\n",
       "    <tr>\n",
       "      <th>73</th>\n",
       "      <td>45.8</td>\n",
       "      <td>18.9</td>\n",
       "      <td>19.7</td>\n",
       "      <td>41.50</td>\n",
       "      <td>0</td>\n",
       "    </tr>\n",
       "    <tr>\n",
       "      <th>105</th>\n",
       "      <td>39.7</td>\n",
       "      <td>18.9</td>\n",
       "      <td>18.4</td>\n",
       "      <td>35.50</td>\n",
       "      <td>0</td>\n",
       "    </tr>\n",
       "    <tr>\n",
       "      <th>300</th>\n",
       "      <td>46.7</td>\n",
       "      <td>17.9</td>\n",
       "      <td>19.5</td>\n",
       "      <td>33.00</td>\n",
       "      <td>2</td>\n",
       "    </tr>\n",
       "  </tbody>\n",
       "</table>\n",
       "</div>"
      ],
      "text/plain": [
       "     CulmenLength  CulmenDepth  FlipperLength  BodyMass  Species\n",
       "221          50.7         15.0           22.3     55.50        1\n",
       "174          46.5         14.5           21.3     44.00        1\n",
       "63           41.1         18.2           19.2     40.50        0\n",
       "158          45.4         14.6           21.1     48.00        1\n",
       "203          48.5         14.1           22.0     53.00        1\n",
       "115          42.7         18.3           19.6     40.75        0\n",
       "55           41.4         18.6           19.1     37.00        0\n",
       "73           45.8         18.9           19.7     41.50        0\n",
       "105          39.7         18.9           18.4     35.50        0\n",
       "300          46.7         17.9           19.5     33.00        2"
      ]
     },
     "execution_count": 27,
     "metadata": {},
     "output_type": "execute_result"
    }
   ],
   "source": [
    "import pandas as pd\n",
    "\n",
    "penguins = pd.read_csv('data/penguins.csv').dropna()\n",
    "\n",
    "\n",
    "penguins['FlipperLength'] = penguins['FlipperLength']/10\n",
    "penguins['BodyMass'] = penguins['BodyMass']/100\n",
    "\n",
    "for i in range(1,3):\n",
    "    penguins = penguins.append(penguins)\n",
    "\n",
    "sample = penguins.sample(10)\n",
    "sample"
   ]
  },
  {
   "cell_type": "code",
   "execution_count": 28,
   "id": "8548f7a6",
   "metadata": {},
   "outputs": [
    {
     "name": "stdout",
     "output_type": "stream",
     "text": [
      "['CulmenLength' 'CulmenDepth' 'FlipperLength' 'BodyMass' 'Species'] SpeciesName\n",
      "[ 33.1 16.1 17.8 29.0 0 ] Adelie\n",
      "[ 38.1 17.0 18.1 31.75 0 ] Adelie\n",
      "[ 46.8 14.3 21.5 48.5 1 ] Gentoo\n",
      "[ 48.2 14.3 21.0 46.0 1 ] Gentoo\n",
      "[ 45.2 16.6 19.1 32.5 2 ] Chinstrap\n",
      "[ 49.3 15.7 21.7 58.5 1 ] Gentoo\n",
      "[ 44.5 14.7 21.4 48.5 1 ] Gentoo\n",
      "[ 46.8 16.1 21.5 55.0 1 ] Gentoo\n",
      "[ 37.9 18.6 19.3 29.25 0 ] Adelie\n",
      "[ 43.5 18.1 20.2 34.0 2 ] Chinstrap\n"
     ]
    }
   ],
   "source": [
    "penguin_classes = ['Adelie', 'Gentoo', 'Chinstrap']\n",
    "print(sample.columns[0:5].values, 'SpeciesName')\n",
    "for index, row in penguins.sample(10).iterrows():\n",
    "    print('[',row[0], row[1], row[2],row[3], int(row[4]), ']',penguin_classes[int(row[-1])])"
   ]
  },
  {
   "cell_type": "code",
   "execution_count": 29,
   "id": "1f6678ab",
   "metadata": {},
   "outputs": [
    {
     "name": "stdout",
     "output_type": "stream",
     "text": [
      "Training Set: 957, Test Set: 411 \n",
      "\n",
      "Sample of features and labels:\n",
      "[51.1 16.5 22.5 52.5] 1 (Gentoo)\n",
      "[50.7 19.7 20.3 40.5] 2 (Chinstrap)\n",
      "[49.5 16.2 22.9 58. ] 1 (Gentoo)\n",
      "[39.3 20.6 19.  36.5] 0 (Adelie)\n",
      "[42.5 20.7 19.7 45. ] 0 (Adelie)\n",
      "[50.  15.3 22.  55.5] 1 (Gentoo)\n",
      "[50.2  18.7  19.8  37.75] 2 (Chinstrap)\n",
      "[50.7 19.7 20.3 40.5] 2 (Chinstrap)\n",
      "[49.1  14.5  21.2  46.25] 1 (Gentoo)\n",
      "[43.2 16.6 18.7 29. ] 2 (Chinstrap)\n",
      "[38.8  17.6  19.1  32.75] 0 (Adelie)\n",
      "[37.8 17.1 18.6 33. ] 0 (Adelie)\n",
      "[45.8 14.2 21.9 47. ] 1 (Gentoo)\n",
      "[43.8 13.9 20.8 43. ] 1 (Gentoo)\n",
      "[36.  17.1 18.7 37. ] 0 (Adelie)\n",
      "[43.3 13.4 20.9 44. ] 1 (Gentoo)\n",
      "[36.  18.5 18.6 31. ] 0 (Adelie)\n",
      "[41.1  19.   18.2  34.25] 0 (Adelie)\n",
      "[33.1 16.1 17.8 29. ] 0 (Adelie)\n",
      "[40.9 13.7 21.4 46.5] 1 (Gentoo)\n",
      "[45.2 17.8 19.8 39.5] 2 (Chinstrap)\n",
      "[48.4 14.6 21.3 58.5] 1 (Gentoo)\n",
      "[43.6 13.9 21.7 49. ] 1 (Gentoo)\n",
      "[38.5  17.9  19.   33.25] 0 (Adelie)\n"
     ]
    }
   ],
   "source": [
    "from sklearn.model_selection import train_test_split\n",
    "\n",
    "features = ['CulmenLength', 'CulmenDepth', 'FlipperLength', 'BodyMass']\n",
    "label = 'Species'\n",
    "\n",
    "x_train, x_test, y_train, y_test = train_test_split(penguins[features].values,\n",
    "                                                   penguins[label].values,\n",
    "                                                   test_size=0.30,\n",
    "                                                   random_state=0)\n",
    "print('Training Set: %d, Test Set: %d \\n' % (len(x_train), len(x_test)))\n",
    "print('Sample of features and labels:')\n",
    "\n",
    "for n in range(0,24):\n",
    "    print(x_train[n], y_train[n], '(' + penguin_classes[y_train[n]] + ')')"
   ]
  },
  {
   "cell_type": "code",
   "execution_count": null,
   "id": "865cbd81",
   "metadata": {},
   "outputs": [],
   "source": [
    "pip install tensorflow"
   ]
  },
  {
   "cell_type": "code",
   "execution_count": 8,
   "id": "3b9ad6f8",
   "metadata": {},
   "outputs": [
    {
     "name": "stdout",
     "output_type": "stream",
     "text": [
      "Libraries imported.\n",
      "Keras version: 2.12.0\n",
      "TensorFlow version: 2.12.0\n"
     ]
    }
   ],
   "source": [
    "import tensorflow\n",
    "from tensorflow import keras\n",
    "from tensorflow.keras import models\n",
    "from tensorflow.keras.models import Sequential\n",
    "from tensorflow.keras.layers import Dense\n",
    "from tensorflow.keras import utils\n",
    "from tensorflow.keras import optimizers\n",
    "\n",
    "\n",
    "tensorflow.random.set_seed(0)\n",
    "\n",
    "print(\"Libraries imported.\")\n",
    "print('Keras version:',keras.__version__)\n",
    "print('TensorFlow version:',tensorflow.__version__)"
   ]
  },
  {
   "cell_type": "markdown",
   "id": "e7fe93d2",
   "metadata": {},
   "source": [
    "### Data Understanding for TensorFlow"
   ]
  },
  {
   "cell_type": "code",
   "execution_count": 9,
   "id": "6768e148",
   "metadata": {},
   "outputs": [
    {
     "name": "stdout",
     "output_type": "stream",
     "text": [
      "Ready...\n"
     ]
    }
   ],
   "source": [
    "x_train = x_train.astype('float32')\n",
    "x_test = x_test.astype('float32')\n",
    "\n",
    "y_train = utils.to_categorical(y_train)\n",
    "y_test = utils.to_categorical(y_test)\n",
    "print('Ready...')"
   ]
  },
  {
   "cell_type": "markdown",
   "id": "0b474bb9",
   "metadata": {},
   "source": [
    "### Data Modeling Neural Network"
   ]
  },
  {
   "cell_type": "code",
   "execution_count": 13,
   "id": "f9f8c2e6",
   "metadata": {},
   "outputs": [
    {
     "name": "stdout",
     "output_type": "stream",
     "text": [
      "Model: \"sequential_3\"\n",
      "_________________________________________________________________\n",
      " Layer (type)                Output Shape              Param #   \n",
      "=================================================================\n",
      " dense_9 (Dense)             (None, 10)                50        \n",
      "                                                                 \n",
      " dense_10 (Dense)            (None, 10)                110       \n",
      "                                                                 \n",
      " dense_11 (Dense)            (None, 3)                 33        \n",
      "                                                                 \n",
      "=================================================================\n",
      "Total params: 193\n",
      "Trainable params: 193\n",
      "Non-trainable params: 0\n",
      "_________________________________________________________________\n",
      "None\n"
     ]
    }
   ],
   "source": [
    "hl = 10\n",
    "\n",
    "model = Sequential()\n",
    "model.add(Dense(hl, input_dim=len(features), activation='relu'))\n",
    "model.add(Dense(hl, input_dim=hl, activation='relu'))\n",
    "model.add(Dense(len(penguin_classes), input_dim=hl, activation='softmax'))\n",
    "\n",
    "print(model.summary())"
   ]
  },
  {
   "cell_type": "markdown",
   "id": "9c329ee7",
   "metadata": {},
   "source": [
    "### Data Training Model Neural Network"
   ]
  },
  {
   "cell_type": "code",
   "execution_count": 15,
   "id": "5cc981e0",
   "metadata": {},
   "outputs": [
    {
     "name": "stderr",
     "output_type": "stream",
     "text": [
      "WARNING:absl:`lr` is deprecated in Keras optimizer, please use `learning_rate` or use the legacy optimizer, e.g.,tf.keras.optimizers.legacy.Adam.\n"
     ]
    },
    {
     "name": "stdout",
     "output_type": "stream",
     "text": [
      "Epoch 1/50\n",
      "96/96 [==============================] - 3s 9ms/step - loss: 12.2682 - accuracy: 0.4493 - val_loss: 4.4084 - val_accuracy: 0.4234\n",
      "Epoch 2/50\n",
      "96/96 [==============================] - 0s 5ms/step - loss: 1.8245 - accuracy: 0.4984 - val_loss: 0.9350 - val_accuracy: 0.4891\n",
      "Epoch 3/50\n",
      "96/96 [==============================] - 0s 5ms/step - loss: 0.8874 - accuracy: 0.5319 - val_loss: 0.8751 - val_accuracy: 0.5864\n",
      "Epoch 4/50\n",
      "96/96 [==============================] - 0s 5ms/step - loss: 0.8541 - accuracy: 0.5549 - val_loss: 0.8408 - val_accuracy: 0.5499\n",
      "Epoch 5/50\n",
      "96/96 [==============================] - 0s 5ms/step - loss: 0.8272 - accuracy: 0.5444 - val_loss: 0.8206 - val_accuracy: 0.5401\n",
      "Epoch 6/50\n",
      "96/96 [==============================] - 1s 6ms/step - loss: 0.8078 - accuracy: 0.5287 - val_loss: 0.7998 - val_accuracy: 0.5596\n",
      "Epoch 7/50\n",
      "96/96 [==============================] - 0s 5ms/step - loss: 0.7878 - accuracy: 0.5559 - val_loss: 0.7782 - val_accuracy: 0.5353\n",
      "Epoch 8/50\n",
      "96/96 [==============================] - 0s 5ms/step - loss: 0.7682 - accuracy: 0.5287 - val_loss: 0.7622 - val_accuracy: 0.5523\n",
      "Epoch 9/50\n",
      "96/96 [==============================] - 0s 5ms/step - loss: 0.7532 - accuracy: 0.5402 - val_loss: 0.7413 - val_accuracy: 0.5499\n",
      "Epoch 10/50\n",
      "96/96 [==============================] - 0s 5ms/step - loss: 0.7396 - accuracy: 0.5434 - val_loss: 0.7258 - val_accuracy: 0.5304\n",
      "Epoch 11/50\n",
      "96/96 [==============================] - 0s 5ms/step - loss: 0.7252 - accuracy: 0.5402 - val_loss: 0.7087 - val_accuracy: 0.5864\n",
      "Epoch 12/50\n",
      "96/96 [==============================] - 1s 8ms/step - loss: 0.7068 - accuracy: 0.6061 - val_loss: 0.6945 - val_accuracy: 0.6131\n",
      "Epoch 13/50\n",
      "96/96 [==============================] - 0s 5ms/step - loss: 0.6863 - accuracy: 0.6405 - val_loss: 0.6750 - val_accuracy: 0.7056\n",
      "Epoch 14/50\n",
      "96/96 [==============================] - 0s 5ms/step - loss: 0.6705 - accuracy: 0.7032 - val_loss: 0.6604 - val_accuracy: 0.7494\n",
      "Epoch 15/50\n",
      "96/96 [==============================] - 0s 5ms/step - loss: 0.6470 - accuracy: 0.7335 - val_loss: 0.6389 - val_accuracy: 0.7056\n",
      "Epoch 16/50\n",
      "96/96 [==============================] - 0s 5ms/step - loss: 0.6284 - accuracy: 0.7450 - val_loss: 0.6128 - val_accuracy: 0.7518\n",
      "Epoch 17/50\n",
      "96/96 [==============================] - 0s 5ms/step - loss: 0.5988 - accuracy: 0.7962 - val_loss: 0.5806 - val_accuracy: 0.8151\n",
      "Epoch 18/50\n",
      "96/96 [==============================] - 0s 5ms/step - loss: 0.5678 - accuracy: 0.8224 - val_loss: 0.5526 - val_accuracy: 0.8394\n",
      "Epoch 19/50\n",
      "96/96 [==============================] - 0s 5ms/step - loss: 0.5313 - accuracy: 0.8516 - val_loss: 0.5237 - val_accuracy: 0.7421\n",
      "Epoch 20/50\n",
      "96/96 [==============================] - 0s 5ms/step - loss: 0.4675 - accuracy: 0.8945 - val_loss: 0.3976 - val_accuracy: 0.9635\n",
      "Epoch 21/50\n",
      "96/96 [==============================] - 0s 5ms/step - loss: 0.3508 - accuracy: 0.9530 - val_loss: 0.3057 - val_accuracy: 0.9732\n",
      "Epoch 22/50\n",
      "96/96 [==============================] - 0s 5ms/step - loss: 0.2551 - accuracy: 0.9624 - val_loss: 0.2321 - val_accuracy: 0.9757\n",
      "Epoch 23/50\n",
      "96/96 [==============================] - 0s 5ms/step - loss: 0.1962 - accuracy: 0.9697 - val_loss: 0.1894 - val_accuracy: 0.9757\n",
      "Epoch 24/50\n",
      "96/96 [==============================] - 0s 4ms/step - loss: 0.1610 - accuracy: 0.9739 - val_loss: 0.1467 - val_accuracy: 0.9781\n",
      "Epoch 25/50\n",
      "96/96 [==============================] - 0s 5ms/step - loss: 0.1345 - accuracy: 0.9739 - val_loss: 0.1354 - val_accuracy: 0.9781\n",
      "Epoch 26/50\n",
      "96/96 [==============================] - 0s 5ms/step - loss: 0.1214 - accuracy: 0.9791 - val_loss: 0.1135 - val_accuracy: 0.9805\n",
      "Epoch 27/50\n",
      "96/96 [==============================] - 0s 5ms/step - loss: 0.1051 - accuracy: 0.9801 - val_loss: 0.1026 - val_accuracy: 0.9805\n",
      "Epoch 28/50\n",
      "96/96 [==============================] - 0s 4ms/step - loss: 0.0974 - accuracy: 0.9822 - val_loss: 0.0967 - val_accuracy: 0.9830\n",
      "Epoch 29/50\n",
      "96/96 [==============================] - 0s 5ms/step - loss: 0.0878 - accuracy: 0.9822 - val_loss: 0.0969 - val_accuracy: 0.9830\n",
      "Epoch 30/50\n",
      "96/96 [==============================] - 0s 5ms/step - loss: 0.0830 - accuracy: 0.9812 - val_loss: 0.0970 - val_accuracy: 0.9830\n",
      "Epoch 31/50\n",
      "96/96 [==============================] - 0s 5ms/step - loss: 0.0803 - accuracy: 0.9812 - val_loss: 0.0763 - val_accuracy: 0.9854\n",
      "Epoch 32/50\n",
      "96/96 [==============================] - 1s 5ms/step - loss: 0.0738 - accuracy: 0.9833 - val_loss: 0.0778 - val_accuracy: 0.9830\n",
      "Epoch 33/50\n",
      "96/96 [==============================] - 0s 5ms/step - loss: 0.0721 - accuracy: 0.9791 - val_loss: 0.0731 - val_accuracy: 0.9805\n",
      "Epoch 34/50\n",
      "96/96 [==============================] - 0s 5ms/step - loss: 0.0693 - accuracy: 0.9822 - val_loss: 0.0998 - val_accuracy: 0.9684\n",
      "Epoch 35/50\n",
      "96/96 [==============================] - 0s 5ms/step - loss: 0.0629 - accuracy: 0.9854 - val_loss: 0.0668 - val_accuracy: 0.9854\n",
      "Epoch 36/50\n",
      "96/96 [==============================] - 0s 5ms/step - loss: 0.0606 - accuracy: 0.9854 - val_loss: 0.0759 - val_accuracy: 0.9757\n",
      "Epoch 37/50\n",
      "96/96 [==============================] - 0s 5ms/step - loss: 0.0592 - accuracy: 0.9854 - val_loss: 0.0597 - val_accuracy: 0.9854\n",
      "Epoch 38/50\n",
      "96/96 [==============================] - 0s 5ms/step - loss: 0.0572 - accuracy: 0.9875 - val_loss: 0.0567 - val_accuracy: 0.9878\n",
      "Epoch 39/50\n",
      "96/96 [==============================] - 0s 4ms/step - loss: 0.0569 - accuracy: 0.9875 - val_loss: 0.0554 - val_accuracy: 0.9854\n",
      "Epoch 40/50\n",
      "96/96 [==============================] - 1s 6ms/step - loss: 0.0543 - accuracy: 0.9843 - val_loss: 0.0532 - val_accuracy: 0.9854\n",
      "Epoch 41/50\n",
      "96/96 [==============================] - 0s 4ms/step - loss: 0.0497 - accuracy: 0.9885 - val_loss: 0.0515 - val_accuracy: 0.9878\n",
      "Epoch 42/50\n",
      "96/96 [==============================] - 0s 4ms/step - loss: 0.0553 - accuracy: 0.9822 - val_loss: 0.0518 - val_accuracy: 0.9878\n",
      "Epoch 43/50\n",
      "96/96 [==============================] - 0s 5ms/step - loss: 0.0486 - accuracy: 0.9916 - val_loss: 0.0475 - val_accuracy: 0.9878\n",
      "Epoch 44/50\n",
      "96/96 [==============================] - 0s 5ms/step - loss: 0.0473 - accuracy: 0.9864 - val_loss: 0.0508 - val_accuracy: 0.9878\n",
      "Epoch 45/50\n",
      "96/96 [==============================] - 0s 5ms/step - loss: 0.0453 - accuracy: 0.9896 - val_loss: 0.0498 - val_accuracy: 0.9878\n",
      "Epoch 46/50\n",
      "96/96 [==============================] - 0s 4ms/step - loss: 0.0423 - accuracy: 0.9896 - val_loss: 0.0462 - val_accuracy: 0.9878\n",
      "Epoch 47/50\n",
      "96/96 [==============================] - 0s 5ms/step - loss: 0.0480 - accuracy: 0.9833 - val_loss: 0.0478 - val_accuracy: 0.9878\n",
      "Epoch 48/50\n",
      "96/96 [==============================] - 0s 4ms/step - loss: 0.0415 - accuracy: 0.9885 - val_loss: 0.0442 - val_accuracy: 0.9903\n",
      "Epoch 49/50\n",
      "96/96 [==============================] - 0s 5ms/step - loss: 0.0395 - accuracy: 0.9927 - val_loss: 0.0503 - val_accuracy: 0.9805\n",
      "Epoch 50/50\n",
      "96/96 [==============================] - 0s 5ms/step - loss: 0.0395 - accuracy: 0.9885 - val_loss: 0.0498 - val_accuracy: 0.9903\n"
     ]
    }
   ],
   "source": [
    "learning_rate = 0.0001\n",
    "opt = optimizers.Adam(lr=learning_rate)\n",
    "\n",
    "model.compile(loss='categorical_crossentropy',\n",
    "             optimizer=opt,\n",
    "             metrics=['accuracy'])\n",
    "\n",
    "num_epochs = 50\n",
    "history = model.fit(x_train, y_train, epochs=num_epochs, batch_size=10, validation_data=(x_test, y_test))"
   ]
  },
  {
   "cell_type": "markdown",
   "id": "271f1598",
   "metadata": {},
   "source": [
    "### Review Training and Velidation Losses"
   ]
  },
  {
   "cell_type": "code",
   "execution_count": 16,
   "id": "008248b2",
   "metadata": {},
   "outputs": [
    {
     "data": {
      "image/png": "[encoded data removed]",
      "text/plain": [
       "<Figure size 640x480 with 1 Axes>"
      ]
     },
     "metadata": {},
     "output_type": "display_data"
    }
   ],
   "source": [
    "%matplotlib inline \n",
    "from matplotlib import pyplot as plt\n",
    "\n",
    "epoch_nums = range(1, num_epochs+1)\n",
    "training_loss = history.history['loss']\n",
    "validation_loss = history.history['val_loss']\n",
    "plt.plot(epoch_nums, training_loss)\n",
    "plt.plot(epoch_nums, validation_loss)\n",
    "plt.xlabel('epoch')\n",
    "plt.ylabel('loss')\n",
    "plt.legend(['training', 'validation'], loc='upper right')\n",
    "plt.show()"
   ]
  },
  {
   "cell_type": "markdown",
   "id": "ce0ff84d",
   "metadata": {},
   "source": [
    "### Wight and Bias Learned"
   ]
  },
  {
   "cell_type": "code",
   "execution_count": 18,
   "id": "90f2ef47",
   "metadata": {},
   "outputs": [
    {
     "name": "stdout",
     "output_type": "stream",
     "text": [
      "-----------\n",
      "Weights:\n",
      " [[ 0.12949777  0.00701475 -0.10277726 -0.39718273  0.92586404 -0.25267598\n",
      "  -0.6402239  -0.6399893  -0.09164275  0.3582015 ]\n",
      " [-0.5623158  -0.04528099  0.7612501  -0.28665704 -0.36178413 -0.514186\n",
      "  -0.25783134  0.5933256  -0.57611334 -0.63780624]\n",
      " [-0.4413129  -0.45786786  0.16048676  0.1913498  -0.07995707 -0.6478267\n",
      "  -0.35838425  0.48351586  0.03257608 -0.4051839 ]\n",
      " [-0.46712476 -0.59025156  0.20339453  0.7217742  -0.26960966 -0.32552737\n",
      "   0.6124487  -0.24371922  0.20049682 -0.15896207]] \n",
      "Biases:\n",
      " [ 0.          0.          0.22669454 -0.33840686 -0.13050644  0.\n",
      "  0.          0.         -0.09710623  0.        ]\n",
      "-----------\n",
      "Weights:\n",
      " [[ 2.2763836e-01 -3.4823805e-01  4.8719692e-01  8.1764221e-02\n",
      "   2.2420943e-01  2.5256735e-01 -1.5305594e-01  3.8804400e-01\n",
      "  -4.4991902e-01 -2.8747186e-01]\n",
      " [ 1.0642558e-01 -3.7990206e-01 -3.1259948e-01  1.8328822e-01\n",
      "  -6.8363845e-02 -5.0628293e-01  3.0687439e-01 -8.6539984e-04\n",
      "   1.1490107e-02 -4.0336192e-01]\n",
      " [ 5.8988243e-01  4.5709077e-01 -4.7514623e-01 -3.9239183e-01\n",
      "  -5.0727421e-01  5.6705035e-02  5.8545256e-01  2.5739390e-01\n",
      "  -5.4615331e-01  5.0759722e-02]\n",
      " [ 1.3258353e-01 -5.6205440e-01 -3.7966371e-01  1.6563429e-01\n",
      "  -3.2201415e-01 -4.8134857e-01 -4.5536259e-01  2.7653569e-01\n",
      "  -3.4477419e-01 -4.0179230e-03]\n",
      " [-2.3508401e-01 -1.1876982e-05 -3.6935019e-01  4.8944578e-01\n",
      "   1.1788422e-01 -4.4341568e-02 -2.2167902e-01 -6.6469473e-01\n",
      "  -5.3805387e-01 -2.8458971e-01]\n",
      " [-2.2227407e-02 -2.8323054e-02 -2.6620626e-02  3.0965906e-01\n",
      "  -3.7795275e-01  2.3530543e-02  3.4586251e-01 -5.1972455e-01\n",
      "   2.5688845e-01 -2.8642756e-01]\n",
      " [-2.9487565e-01 -6.1161309e-02 -3.7154138e-02  1.2539196e-01\n",
      "   5.1220810e-01 -2.3401091e-01 -1.8865585e-01  9.6765161e-03\n",
      "   3.7846231e-01  2.2334999e-01]\n",
      " [-1.6419190e-01  5.3135073e-01 -2.1261013e-01 -2.2819492e-01\n",
      "  -1.3631141e-01  4.8741007e-01  5.4088354e-01 -2.0099464e-01\n",
      "   3.0674291e-01 -6.8074346e-02]\n",
      " [ 4.1857269e-01  4.1189507e-01 -5.4523051e-02 -3.6933908e-01\n",
      "   3.6144382e-01 -1.7956138e-01 -1.7803913e-01  2.9592234e-01\n",
      "   2.4358070e-01  3.7094915e-01]\n",
      " [ 3.7020445e-04 -3.8838500e-01  1.4517009e-02 -3.6939085e-02\n",
      "   3.4940130e-01 -2.6470855e-01  1.6861045e-01  9.1685414e-02\n",
      "  -2.7577034e-01  7.5527191e-02]] \n",
      "Biases:\n",
      " [ 0.29341513 -0.03063711  0.         -0.32163304  0.         -0.02221199\n",
      "  0.14632055 -0.14194207  0.         -0.07772218]\n",
      "-----------\n",
      "Weights:\n",
      " [[ 0.56873167  0.49517483 -0.42096457]\n",
      " [ 0.5266169  -0.70705855  0.8032702 ]\n",
      " [ 0.5035025  -0.46574098  0.06803113]\n",
      " [-1.3533953   0.58230513  0.76704353]\n",
      " [ 0.01497591  0.24144876 -0.44502586]\n",
      " [-0.10244542  0.5513317  -0.1649957 ]\n",
      " [ 0.18552265 -1.0778399  -0.14511627]\n",
      " [ 0.26756626 -0.26621544  0.06401057]\n",
      " [-0.5653456  -0.21337649  0.06590605]\n",
      " [ 0.07307487 -0.50273883  0.5231304 ]] \n",
      "Biases:\n",
      " [-0.14442194  0.4531074  -0.4257297 ]\n"
     ]
    }
   ],
   "source": [
    "for layer in model.layers:\n",
    "    weights = layer.get_weights()[0]\n",
    "    biases = layer.get_weights()[1]\n",
    "    print('-----------\\nWeights:\\n', weights, '\\nBiases:\\n', biases)"
   ]
  },
  {
   "cell_type": "markdown",
   "id": "a623f325",
   "metadata": {},
   "source": [
    "### Evaluate Model Performance"
   ]
  },
  {
   "cell_type": "code",
   "execution_count": 25,
   "id": "cdf3ba5e",
   "metadata": {},
   "outputs": [
    {
     "name": "stdout",
     "output_type": "stream",
     "text": [
      "13/13 [==============================] - 0s 2ms/step\n"
     ]
    },
    {
     "data": {
      "image/png": "[encoded data removed]",
      "text/plain": [
       "<Figure size 640x480 with 2 Axes>"
      ]
     },
     "metadata": {},
     "output_type": "display_data"
    }
   ],
   "source": [
    "import numpy as np\n",
    "from sklearn.metrics import confusion_matrix\n",
    "import matplotlib.pyplot as plt\n",
    "%matplotlib inline\n",
    "\n",
    "class_probabilities = model.predict(x_test)\n",
    "predictions = np.argmax(class_probabilities, axis=1)\n",
    "true_labels = np.argmax(y_test, axis=1)\n",
    "\n",
    "cm = confusion_matrix(true_labels, predictions)\n",
    "plt.imshow(cm, interpolation='nearest', cmap=plt.cm.Blues)\n",
    "plt.colorbar()\n",
    "tick_marks = np.arange(len(penguin_classes))\n",
    "plt.xticks(tick_marks, penguin_classes, rotation=45)\n",
    "plt.yticks(tick_marks, penguin_classes)\n",
    "plt.xlabel('Predicted Species')\n",
    "plt.ylabel('Actual Species')\n",
    "plt.show()"
   ]
  },
  {
   "cell_type": "markdown",
   "id": "9afe358a",
   "metadata": {},
   "source": [
    "### Save Train Model"
   ]
  },
  {
   "cell_type": "code",
   "execution_count": 22,
   "id": "6b5ec343",
   "metadata": {},
   "outputs": [
    {
     "name": "stdout",
     "output_type": "stream",
     "text": [
      "Model Saved as models/penguin-classifier.h5\n"
     ]
    }
   ],
   "source": [
    "modelFileName = 'models/penguin-classifier.h5'\n",
    "model.save(modelFileName)\n",
    "del model\n",
    "print('Model Saved as', modelFileName)"
   ]
  },
  {
   "cell_type": "markdown",
   "id": "7d71bc75",
   "metadata": {},
   "source": [
    "### Use Training Model "
   ]
  },
  {
   "cell_type": "code",
   "execution_count": 24,
   "id": "e5feb101",
   "metadata": {},
   "outputs": [
    {
     "name": "stdout",
     "output_type": "stream",
     "text": [
      "Name sample: [[50.4 15.3 10.  50. ]]\n",
      "1/1 [==============================] - 0s 102ms/step\n",
      "Gentoo\n"
     ]
    }
   ],
   "source": [
    "model = models.load_model(modelFileName)\n",
    "\n",
    "x_new = np.array([[50.4, 15.3, 10, 50]])\n",
    "print('Name sample: {}'.format(x_new))\n",
    "\n",
    "class_probabilities = model.predict(x_new)\n",
    "predictions = np.argmax(class_probabilities, axis=1)\n",
    "\n",
    "print(penguin_classes[predictions[0]])"
   ]
  }
 ],
 "metadata": {
  "kernelspec": {
   "display_name": "Python 3 (ipykernel)",
   "language": "python",
   "name": "python3"
  },
  "language_info": {
   "codemirror_mode": {
    "name": "ipython",
    "version": 3
   },
   "file_extension": ".py",
   "mimetype": "text/x-python",
   "name": "python",
   "nbconvert_exporter": "python",
   "pygments_lexer": "ipython3",
   "version": "3.9.13"
  }
 },
 "nbformat": 4,
 "nbformat_minor": 5
}
